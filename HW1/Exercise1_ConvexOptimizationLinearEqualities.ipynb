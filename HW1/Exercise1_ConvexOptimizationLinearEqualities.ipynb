{
 "cells": [
  {
   "cell_type": "code",
   "execution_count": 13,
   "metadata": {},
   "outputs": [],
   "source": [
    "# from numpy import *\n",
    "import numpy as np\n",
    "import scipy as sp\n",
    "\n",
    "Q = np.mat([[10,1,0],[1,100,2],[0,2,1]])\n",
    "A = np.mat([1,1,1])\n",
    "b = 1"
   ]
  },
  {
   "cell_type": "code",
   "execution_count": 14,
   "metadata": {},
   "outputs": [
    {
     "name": "stdout",
     "output_type": "stream",
     "text": [
      "[[-0.89878163]]\n"
     ]
    }
   ],
   "source": [
    "pinv_Q = np.linalg.pinv(Q)\n",
    "lamda = -np.linalg.pinv(A.dot(pinv_Q).dot(A.T))*b\n",
    "print(lamda)"
   ]
  },
  {
   "cell_type": "code",
   "execution_count": 15,
   "metadata": {},
   "outputs": [
    {
     "name": "stdout",
     "output_type": "stream",
     "text": [
      "[[ 0.09090909]\n",
      " [-0.01030928]\n",
      " [ 0.91940019]]\n"
     ]
    }
   ],
   "source": [
    "x = -pinv_Q.dot(A.T).dot(lamda)\n",
    "print(x)"
   ]
  },
  {
   "cell_type": "code",
   "execution_count": 16,
   "metadata": {},
   "outputs": [
    {
     "name": "stdout",
     "output_type": "stream",
     "text": [
      "True\n",
      "True\n"
     ]
    }
   ],
   "source": [
    "# Verify the constraints\n",
    "print(np.allclose(np.dot(Q, x), -A.T.dot(lamda)))\n",
    "print(np.allclose(np.dot(A, x), b))"
   ]
  },
  {
   "cell_type": "code",
   "execution_count": null,
   "metadata": {},
   "outputs": [],
   "source": []
  }
 ],
 "metadata": {
  "kernelspec": {
   "display_name": "Python 2",
   "language": "python",
   "name": "python2"
  },
  "language_info": {
   "codemirror_mode": {
    "name": "ipython",
    "version": 2
   },
   "file_extension": ".py",
   "mimetype": "text/x-python",
   "name": "python",
   "nbconvert_exporter": "python",
   "pygments_lexer": "ipython2",
   "version": "2.7.15"
  }
 },
 "nbformat": 4,
 "nbformat_minor": 2
}
