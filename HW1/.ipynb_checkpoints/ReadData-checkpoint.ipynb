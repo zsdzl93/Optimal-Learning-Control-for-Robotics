{
 "cells": [
  {
   "cell_type": "code",
   "execution_count": 12,
   "metadata": {},
   "outputs": [
    {
     "data": {
      "text/plain": [
       "([0.8198547320821135,\n",
       "  0.057164769813608185,\n",
       "  1.028609556223516,\n",
       "  -1.4850717524276789,\n",
       "  0.4497749616901352,\n",
       "  0.8774266598367073,\n",
       "  -1.5387763955225426,\n",
       "  -0.9931023282495546,\n",
       "  -0.6732361785084291,\n",
       "  0.9787664607642683],\n",
       " [1.6958839532281755,\n",
       "  4.859592071222548,\n",
       "  4.495508607035092,\n",
       "  0.28853473165125076,\n",
       "  -0.7863433528605279,\n",
       "  1.9363084491541362,\n",
       "  -0.6432673515791887,\n",
       "  4.127977296744007,\n",
       "  -0.16044190655279822,\n",
       "  3.5867167351114104])"
      ]
     },
     "execution_count": 12,
     "metadata": {},
     "output_type": "execute_result"
    }
   ],
   "source": [
    "x = []\n",
    "y = []\n",
    "\n",
    "i = 0\n",
    "for line in open(\"regression_dataset2\", 'r'):\n",
    "    if i != 0:\n",
    "        xy = line.strip().split(' ')\n",
    "        x.append(float(xy[0]))\n",
    "        y.append(float(xy[1]))\n",
    "    i += 1\n",
    "    \n",
    "x[:10], y[:10]"
   ]
  },
  {
   "cell_type": "code",
   "execution_count": 13,
   "metadata": {},
   "outputs": [],
   "source": [
    "import matplotlib.pyplot as plt\n",
    "\n",
    "%matplotlib inline"
   ]
  },
  {
   "cell_type": "code",
   "execution_count": 14,
   "metadata": {},
   "outputs": [
    {
     "data": {
      "text/plain": [
       "<matplotlib.collections.PathCollection at 0x8bae6d8>"
      ]
     },
     "execution_count": 14,
     "metadata": {},
     "output_type": "execute_result"
    },
    {
     "data": {
      "image/png": "[encoded data removed]",
      "text/plain": [
       "<Figure size 432x288 with 1 Axes>"
      ]
     },
     "metadata": {
      "needs_background": "light"
     },
     "output_type": "display_data"
    }
   ],
   "source": [
    "plt.scatter(x, y)"
   ]
  },
  {
   "cell_type": "code",
   "execution_count": null,
   "metadata": {},
   "outputs": [],
   "source": []
  }
 ],
 "metadata": {
  "kernelspec": {
   "display_name": "Python 2",
   "language": "python",
   "name": "python2"
  },
  "language_info": {
   "codemirror_mode": {
    "name": "ipython",
    "version": 2
   },
   "file_extension": ".py",
   "mimetype": "text/x-python",
   "name": "python",
   "nbconvert_exporter": "python",
   "pygments_lexer": "ipython2",
   "version": "2.7.15"
  }
 },
 "nbformat": 4,
 "nbformat_minor": 2
}
