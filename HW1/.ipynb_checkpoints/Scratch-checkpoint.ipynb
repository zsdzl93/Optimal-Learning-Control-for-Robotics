{
 "cells": [
  {
   "cell_type": "code",
   "execution_count": null,
   "metadata": {},
   "outputs": [],
   "source": [
    "# read the data from regression_dataset\n",
    "data = np.loadtxt('regression_dataset')\n",
    "m, n = np.shape(data)\n",
    "data_x = data[:m,:1]\n",
    "data_y = data[:m,1:2]\n",
    "\n",
    "model = LinearRegression()\n",
    "\n",
    "loss_last = sys.maxint             # loss_last = infinite maximum\n",
    "for i in range(p):\n",
    "    Xtrain = Xtr[:len(Xtr),i:i+1]  # take X's ith column\n",
    "    model.fit(Xtrain,ytr)          # fit\n",
    "    yhat = model.predict(Xts)      # get value of y according to the model based on Xts(prediction)\n",
    "    loss_now = (ytr-yhat).transpose().dot(ytr-yhat)  # (ytr-yhat)^2\n",
    "    if loss_now < loss_last:       # get the number of the column which results in minimum loss\n",
    "        loss_last = loss_now\n",
    "        column = i\n",
    "    \n",
    "\n",
    "    \n",
    "    model.fit(Xtr,ytr)\n",
    "yhat = model.predict(Xts)"
   ]
  }
 ],
 "metadata": {
  "kernelspec": {
   "display_name": "Python 2",
   "language": "python",
   "name": "python2"
  },
  "language_info": {
   "codemirror_mode": {
    "name": "ipython",
    "version": 2
   },
   "file_extension": ".py",
   "mimetype": "text/x-python",
   "name": "python",
   "nbconvert_exporter": "python",
   "pygments_lexer": "ipython2",
   "version": "2.7.15"
  }
 },
 "nbformat": 4,
 "nbformat_minor": 2
}
