{
 "cells": [
  {
   "cell_type": "code",
   "execution_count": 65,
   "metadata": {},
   "outputs": [],
   "source": [
    "import numpy as np"
   ]
  },
  {
   "cell_type": "markdown",
   "metadata": {},
   "source": [
    "# Exercise 3 [Linear Quadratic Regulators]\n",
    "\n",
    "Here we discuss the problem of computing the optimal control policy for problems of the form\n",
    "$$ \\min_{\\mathbf{u}_n} \\mathbf{x}_N^T \\mathbf{Q}_N \\mathbf{x}_N + \\sum_{n=0}^{N-1} \\mathbf{x}_{n}^T \\mathbf{Q}_n \\mathbf{x}_n + \\mathbf{u}_n^T \\mathbf{R}_n \\mathbf{u}_n\\\\\n",
    "s.t. \\ \\mathbf{x}_{n+1} = \\mathbf{A}_n \\mathbf{x}_n + \\mathbf{B}_n \\mathbf{u}_n + \\omega_n$$\n",
    "where $\\mathbf{R}>0$, $\\mathbf{Q} \\geq 0$ and $\\mathbb{E}(\\omega_n) = 0$ and $\\mathbb{E}(\\omega_n^T \\omega_n) \\leq \\infty$ (i.e. the noise has 0 mean and finite variance)\n",
    "\n",
    "We have seen in the class that the optimal control and optimal value function (and cost-to-go for every stage) could be found by solving the following backward Riccati equations from $N$ to $0$\n",
    "$$\\mathbf{P}_N = \\mathbf{Q}_N\\\\\n",
    "\\mathbf{K}_n = -(\\mathbf{R}_n+\\mathbf{B}_n^T \\mathbf{P}_{n+1} \\mathbf{B}_n)^{-1} (\\mathbf{B}_n^T \\mathbf{P}_{n+1} A_n)\\\\\n",
    "\\mathbf{P}_n = \\mathbf{Q}_n + \\mathbf{A}_n^T \\mathbf{P}_{n+1} \\mathbf{A}_n + \\mathbf{A}_n^T \\mathbf{P}_{n+1} \\mathbf{B}_n \\mathbf{K}_n$$\n",
    "\n",
    "The optimal policy is then $$\\mu_n^* = \\mathbf{K}_n \\mathbf{x}_n$$\n",
    "and the optimal value function is $$J_0(\\mathbf{x}_0) = \\mathbf{x}_0^T \\mathbf{P}_0 \\mathbf{x}_0 + \\sum_{n=0}^{N-1} \\mathbb{E}(\\omega_n^T P_{n+1} \\omega_n)$$\n",
    "\n",
    "## Question 1\n",
    "Write a function that solves the backward Riccati equations assuming that $A_n$, $B_n$, $Q_n$ and $R_n$ are constant matrices by completing the matrix below"
   ]
  },
  {
   "cell_type": "code",
   "execution_count": 66,
   "metadata": {},
   "outputs": [],
   "source": [
    "def solve_ricatti_equations(A,B,Q,R,horizon_length):\n",
    "    \"\"\"\n",
    "    This function solves the backward Riccatti equations for regulator problems of the form\n",
    "    min xQx + sum(xQx + uRu) subject to xn+1 = Axn + Bun\n",
    "    \n",
    "    Arguments:\n",
    "    A, B, Q, R: numpy arrays defining the problem\n",
    "    horizon_length: length of the horizon\n",
    "    \n",
    "    Returns:\n",
    "    P: list of numpy arrays containing Pn from N to 0\n",
    "    K: list of numpy arrays containing Kn from N-1 to 0\n",
    "    \"\"\"\n",
    "    P = [1]*horizon_length #will contain the list of Ps from N to 0\n",
    "    K = [1]*(horizon_length-1) #will contain the list of Ks from N-1 to 0\n",
    "\n",
    "    N = horizon_length-1\n",
    "    P[N] = Q\n",
    "    for n in range(N-1,-1,-1):\n",
    "        K[n] = -np.linalg.pinv( R+B.T.dot(P[n+1]).dot(B) ).dot(B.T.dot(P[n+1]).dot(A))\n",
    "        P[n] = Q + A.T.dot(P[n+1]).dot(A) + A.T.dot(P[n+1]).dot(B).dot(K[n])\n",
    "    \n",
    "    return P,K"
   ]
  },
  {
   "cell_type": "markdown",
   "metadata": {},
   "source": [
    "## Question 2\n",
    "\n",
    "1. Compute the optimal controllers for the four systems shown in Exercise 2 [Controllability] for an horizon length of 100 steps using $Q = I_{3 \\times 3}$ and $R = 0.1$.\n",
    "2. Compute the behavior of each system for initial conditions $x_0 = [1,1,1]$ when using the optimal controller and compare the system behavior when no controller is used ($u_n = 0$). \n",
    "3. For which system did the controller lead to a stable system?"
   ]
  },
  {
   "cell_type": "code",
   "execution_count": 69,
   "metadata": {},
   "outputs": [
    {
     "name": "stdout",
     "output_type": "stream",
     "text": [
      "(matrix([[1.32233593e+35]]), matrix([[7.34544999e+41]]))\n",
      "[matrix([[-15.11282645,   7.39370436,  -9.19261298]]), matrix([[-15.11282645,   7.39370436,  -9.19261298]]), matrix([[-15.11282645,   7.39370436,  -9.19261298]]), matrix([[-15.11282645,   7.39370436,  -9.19261298]]), matrix([[-15.11282645,   7.39370436,  -9.19261298]]), matrix([[-15.11282645,   7.39370436,  -9.19261298]]), matrix([[-15.11282645,   7.39370436,  -9.19261298]]), matrix([[-15.11282645,   7.39370436,  -9.19261298]]), matrix([[-15.11282645,   7.39370436,  -9.19261298]]), matrix([[-15.11282645,   7.39370436,  -9.19261298]]), matrix([[-15.11282645,   7.39370436,  -9.19261298]]), matrix([[-15.11282645,   7.39370436,  -9.19261298]]), matrix([[-15.11282645,   7.39370436,  -9.19261298]]), matrix([[-15.11282645,   7.39370436,  -9.19261298]]), matrix([[-15.11282645,   7.39370436,  -9.19261298]]), matrix([[-15.11282645,   7.39370436,  -9.19261298]]), matrix([[-15.11282645,   7.39370436,  -9.19261298]]), matrix([[-15.11282645,   7.39370436,  -9.19261298]]), matrix([[-15.11282645,   7.39370436,  -9.19261298]]), matrix([[-15.11282645,   7.39370436,  -9.19261298]]), matrix([[-15.11282645,   7.39370436,  -9.19261298]]), matrix([[-15.11282645,   7.39370436,  -9.19261298]]), matrix([[-15.11282645,   7.39370436,  -9.19261298]]), matrix([[-15.11282645,   7.39370436,  -9.19261298]]), matrix([[-15.11282645,   7.39370436,  -9.19261298]]), matrix([[-15.11282645,   7.39370436,  -9.19261298]]), matrix([[-15.11282645,   7.39370436,  -9.19261298]]), matrix([[-15.11282645,   7.39370436,  -9.19261298]]), matrix([[-15.11282645,   7.39370436,  -9.19261298]]), matrix([[-15.11282645,   7.39370436,  -9.19261298]]), matrix([[-15.11282645,   7.39370436,  -9.19261298]]), matrix([[-15.11282645,   7.39370436,  -9.19261298]]), matrix([[-15.11282645,   7.39370436,  -9.19261298]]), matrix([[-15.11282645,   7.39370436,  -9.19261298]]), matrix([[-15.11282645,   7.39370436,  -9.19261298]]), matrix([[-15.11282645,   7.39370436,  -9.19261298]]), matrix([[-15.11282645,   7.39370436,  -9.19261298]]), matrix([[-15.11282645,   7.39370436,  -9.19261298]]), matrix([[-15.11282645,   7.39370436,  -9.19261298]]), matrix([[-15.11282645,   7.39370436,  -9.19261298]]), matrix([[-15.11282645,   7.39370436,  -9.19261298]]), matrix([[-15.11282645,   7.39370436,  -9.19261298]]), matrix([[-15.11282645,   7.39370436,  -9.19261298]]), matrix([[-15.11282645,   7.39370436,  -9.19261298]]), matrix([[-15.11282645,   7.39370436,  -9.19261298]]), matrix([[-15.11282645,   7.39370436,  -9.19261298]]), matrix([[-15.11282645,   7.39370436,  -9.19261298]]), matrix([[-15.11282645,   7.39370436,  -9.19261298]]), matrix([[-15.11282645,   7.39370436,  -9.19261298]]), matrix([[-15.11282645,   7.39370436,  -9.19261298]]), matrix([[-15.11282645,   7.39370436,  -9.19261298]]), matrix([[-15.11282645,   7.39370436,  -9.19261298]]), matrix([[-15.11282645,   7.39370436,  -9.19261298]]), matrix([[-15.11282645,   7.39370436,  -9.19261298]]), matrix([[-15.11282645,   7.39370436,  -9.19261298]]), matrix([[-15.11282645,   7.39370436,  -9.19261298]]), matrix([[-15.11282645,   7.39370436,  -9.19261298]]), matrix([[-15.11282645,   7.39370436,  -9.19261298]]), matrix([[-15.11282645,   7.39370436,  -9.19261298]]), matrix([[-15.11282645,   7.39370436,  -9.19261298]]), matrix([[-15.11282645,   7.39370436,  -9.19261298]]), matrix([[-15.11282645,   7.39370436,  -9.19261298]]), matrix([[-15.11282645,   7.39370436,  -9.19261298]]), matrix([[-15.11282645,   7.39370436,  -9.19261298]]), matrix([[-15.11282645,   7.39370436,  -9.19261298]]), matrix([[-15.11282645,   7.39370436,  -9.19261298]]), matrix([[-15.11282644,   7.39370436,  -9.19261298]]), matrix([[-15.11282644,   7.39370436,  -9.19261297]]), matrix([[-15.11282644,   7.39370435,  -9.19261297]]), matrix([[-15.11282643,   7.39370435,  -9.19261297]]), matrix([[-15.1128264 ,   7.39370433,  -9.19261295]]), matrix([[-15.11282634,   7.3937043 ,  -9.19261291]]), matrix([[-15.11282618,   7.39370421,  -9.19261281]]), matrix([[-15.11282576,   7.39370397,  -9.19261255]]), matrix([[-15.1128247 ,   7.39370338,  -9.19261188]]), matrix([[-15.11282201,   7.39370187,  -9.1926102 ]]), matrix([[-15.11281516,   7.39369804,  -9.19260591]]), matrix([[-15.11279776,   7.3936883 ,  -9.19259502]]), matrix([[-15.11275352,   7.39366353,  -9.19256733]]), matrix([[-15.11264107,   7.39360058,  -9.19249695]]), matrix([[-15.11235523,   7.39344057,  -9.19231805]]), matrix([[-15.11162868,   7.39303386,  -9.19186333]]), matrix([[-15.10978215,   7.3920002 ,  -9.19070765]]), matrix([[-15.10509042,   7.38937382,  -9.18777125]]), matrix([[-15.09317775,   7.38270525,  -9.18031549]]), matrix([[-15.0629833 ,   7.36580276,  -9.16141775]]), matrix([[-14.9867887 ,   7.32314994,  -9.11372999]]), matrix([[-14.79664124,   7.21670768,  -8.99472279]]), matrix([[-14.33500478,   6.95828913,  -8.70579933]]), matrix([[-13.28538386,   6.37072394,  -8.04887523]]), matrix([[-11.21749651,   5.21314543,  -6.75465082]]), matrix([[-8.09222649,  3.4636568 , -4.79864449]]), matrix([[-4.85439284,  1.6511564 , -2.77218819]]), matrix([[-2.58067781,  0.37835804, -1.34914283]]), matrix([[-1.38357282, -0.29176681, -0.59991311]]), matrix([[-0.84750098, -0.59184903, -0.26440083]]), matrix([[-0.62488423, -0.71634544, -0.12501452]]), matrix([[-0.53422371, -0.76377295, -0.06677796]]), matrix([[-0.47619048, -0.71428571, -0.        ]])]\n",
      "(matrix([[1774.14276921]]), matrix([[7.34544999e+41]]))\n",
      "(matrix([[6.1375247]]), matrix([[7.76296296]]))\n",
      "(matrix([[4.5572392]]), matrix([[6.71582696]]))\n"
     ]
    }
   ],
   "source": [
    "length = 100;\n",
    "Q = np.mat([ [1,0,0],[0,1,0],[0,0,1] ])\n",
    "R = 0.1\n",
    "x0 = np.mat([1,1,1]).T\n",
    "\n",
    "A1 = np.mat([ [1,0,1],[0,1.5,0],[1,0,0] ])\n",
    "B1 = np.mat([ 0,0,1 ]).T\n",
    "[ P,K ] = solve_ricatti_equations(A1,B1,Q,R,length)\n",
    "J0_x0 = x0.T.dot(P[0]).dot(x0)\n",
    "[ P,K ] = solve_ricatti_equations(A1,np.mat([ 0,0,0 ]).T,Q,R,length)\n",
    "J0_x0_uis0 = x0.T.dot(P[0]).dot(x0)\n",
    "print(J0_x0,J0_x0_uis0)\n",
    "\n",
    "A2 = np.mat([ [1,0,1],[0,1.5,0],[1,0,0] ])\n",
    "B2 = np.mat([ 0,1,1 ]).T\n",
    "[ P,K ] = solve_ricatti_equations(A2,B2,Q,R,length)\n",
    "J0_x0 = x0.T.dot(P[0]).dot(x0)\n",
    "print K\n",
    "[ P,K ] = solve_ricatti_equations(A2,np.mat([ 0,0,0 ]).T,Q,R,length)\n",
    "J0_x0_uis0 = x0.T.dot(P[0]).dot(x0)\n",
    "print(J0_x0,J0_x0_uis0)\n",
    "\n",
    "\n",
    "A3 = np.mat([ [0.5,0,0.5],[0,-0.5,-1],[0,0,0.5] ])\n",
    "B3 = np.mat([ 1,0,1 ]).T\n",
    "[ P,K ] = solve_ricatti_equations(A3,B3,Q,R,length)\n",
    "J0_x0 = x0.T.dot(P[0]).dot(x0)\n",
    "[ P,K ] = solve_ricatti_equations(A3,np.mat([ 0,0,0 ]).T,Q,R,length)\n",
    "J0_x0_uis0 = x0.T.dot(P[0]).dot(x0)\n",
    "print(J0_x0,J0_x0_uis0)\n",
    "\n",
    "A4 = np.mat([ [0.5,0.5,0],[0,-0.5,-1],[-0.1,0,0.5] ])\n",
    "B4 = np.mat([ 0,1,0 ]).T\n",
    "[ P,K ] = solve_ricatti_equations(A4,B4,Q,R,length)\n",
    "J0_x0 = x0.T.dot(P[0]).dot(x0)\n",
    "[ P,K ] = solve_ricatti_equations(A4,np.mat([ 0,0,0 ]).T,Q,R,length)\n",
    "J0_x0_uis0 = x0.T.dot(P[0]).dot(x0)\n",
    "print(J0_x0,J0_x0_uis0)\n",
    "\n",
    "\n"
   ]
  },
  {
   "cell_type": "code",
   "execution_count": null,
   "metadata": {},
   "outputs": [],
   "source": []
  }
 ],
 "metadata": {
  "kernelspec": {
   "display_name": "Python 2",
   "language": "python",
   "name": "python2"
  },
  "language_info": {
   "codemirror_mode": {
    "name": "ipython",
    "version": 2
   },
   "file_extension": ".py",
   "mimetype": "text/x-python",
   "name": "python",
   "nbconvert_exporter": "python",
   "pygments_lexer": "ipython2",
   "version": "2.7.15"
  }
 },
 "nbformat": 4,
 "nbformat_minor": 2
}
